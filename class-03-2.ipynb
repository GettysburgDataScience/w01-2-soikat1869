{
 "cells": [
  {
   "cell_type": "markdown",
   "id": "ca83290c-15f0-45d9-9679-13331f4d531b",
   "metadata": {},
   "source": [
    "DS 256 Data Science Programming, Fall 2024\n",
    "\n",
    "Prof Eatai Roth\n",
    "\n",
    "Class 3.2\n",
    "\n",
    "Today, we'll continue learning about control flow, introducing loops. [WTOP Ch 8](https://jakevdp.github.io/WhirlwindTourOfPython/07-control-flow-statements.html)"
   ]
  },
  {
   "cell_type": "code",
   "execution_count": null,
   "id": "5c457d20-86de-4e31-afa1-e066e355fd4a",
   "metadata": {},
   "outputs": [],
   "source": []
  },
  {
   "cell_type": "markdown",
   "id": "f83d06c0-6645-4beb-9b70-7ac70523c813",
   "metadata": {},
   "source": [
    "# Control Flow (continued)\n",
    "\n",
    "Last class we covered *conditional statements*, today we'll introduce loops.\n",
    "\n",
    " - ~~Conditional Statements - statements that allow you to run different code under certain conditions~~\n",
    " - Loops - statements that allow you to run blocks of code multiple times"
   ]
  },
  {
   "cell_type": "markdown",
   "id": "aa86db66-dc95-48b6-bc75-6f9163530d64",
   "metadata": {},
   "source": [
    "## Loops\n",
    "\n",
    "Loops allow you to execute a block of code repeatedly. This is useful if you need to perform the same set of actions on several (tens or maybe hundreds) of different items in some container (e.g. loading files from a list of filenames, parsing text into sentences or clauses, extracting specific data that meet some criteria from a larger set). Once you understand loops, you'll find they're incredibly useful for automating tedious analyses. BUT for large data and complex operations, loops can get very slow; so for many data science use cases, we try to find ways to avoid using loops.\n",
    "\n",
    "The two main kinds of loops, common to most programming languages are:\n",
    "\n",
    " - while loops - perform a block of code as long as some condition holds true\n",
    " - for loops - perform a block of code a set number of times\n",
    "\n",
    "Later, we'll learn list and dictionary *comprehensions* (one of the most fun and useful features of Python).\n",
    "\n",
    "### While loops\n",
    "Run some code repeatedly as long as a condition is met:\n",
    " - I'm going to work on homework problems until 10p.\n",
    " - It's an all-you-can-eat buffet, I'm going to eat as long as there's room in my stomach.\n",
    " - Keep driving straight until you see a Wendy's on the left, then turn left.\n",
    "\n",
    "### For loops\n",
    "Run some code repeatedly some set amount of times:\n",
    "\n",
    " - I'm going to work through the first four homework problems.\n",
    " - I'm going to eat one forkful of each dish at the buffet.\n",
    " - Keep driving straight past six traffic lights, then turn left.\n",
    "\n",
    "\n",
    "We'll start with while loops:\n",
    "\n",
    "### While loops   \n",
    "#### Syntax for While loops:\n",
    "```\n",
    "while <condition>:\n",
    "    <code block>\n",
    "```\n"
   ]
  },
  {
   "cell_type": "markdown",
   "id": "cc307fc2-c652-49c8-9a3b-15379feac739",
   "metadata": {},
   "source": [
    "#### Example Problem 1\n",
    "\n",
    "Suppose we are developing a mobile game. Our game permits in-app purchases, as such, users must \"verify\" they are 18+ years old. We'll keep asking until we get the answer we want."
   ]
  },
  {
   "cell_type": "code",
   "execution_count": 2,
   "id": "6ba71c4e-9d6c-44b1-9bca-b97c9a60866c",
   "metadata": {},
   "outputs": [],
   "source": [
    "def verifyAge():\n",
    "    age = 0\n",
    "    while age < 18:\n",
    "        age = int(input('Verify your age:')) # input is a function that requests input from the user\n",
    "        if age < 0:\n",
    "            print('Please enter a POSITIVE number.')\n",
    "        elif age < 18:\n",
    "            print('Are you sure you typed that correctly? You seem older to me. Try again.')\n",
    "        else:\n",
    "            print('You are verified!')\n"
   ]
  },
  {
   "cell_type": "code",
   "execution_count": 8,
   "id": "30787d69-4295-4bee-b6e2-d7b2cd1daf2a",
   "metadata": {},
   "outputs": [
    {
     "name": "stdin",
     "output_type": "stream",
     "text": [
      "Verify your age: -33\n"
     ]
    },
    {
     "name": "stdout",
     "output_type": "stream",
     "text": [
      "Please enter a POSITIVE number.\n"
     ]
    },
    {
     "name": "stdin",
     "output_type": "stream",
     "text": [
      "Verify your age: 0\n"
     ]
    },
    {
     "name": "stdout",
     "output_type": "stream",
     "text": [
      "Are you sure you typed that correctly? You seem older to me. Try again.\n"
     ]
    },
    {
     "name": "stdin",
     "output_type": "stream",
     "text": [
      "Verify your age: 88\n"
     ]
    },
    {
     "name": "stdout",
     "output_type": "stream",
     "text": [
      "You are verified!\n"
     ]
    }
   ],
   "source": [
    "verifyAge()"
   ]
  },
  {
   "cell_type": "markdown",
   "id": "150ae2d3-49af-4e51-9f18-3f502ab51261",
   "metadata": {},
   "source": [
    "#### Example Problem 2\n",
    "\n",
    "We'll write a (crude) countdown timer. The user enters a number and the timer will count down that number of seconds.\n",
    "\n",
    "For this problem, we'll import a package called ```time``` (our first imported package...more on that soon). From the time package, we'll use a function called ```sleep``` which pauses the program for a set number of seconds.\n"
   ]
  },
  {
   "cell_type": "code",
   "execution_count": 4,
   "id": "1b512e0e-119b-4e01-95b8-03d12075df29",
   "metadata": {},
   "outputs": [],
   "source": [
    "from time import sleep\n",
    "\n",
    "def countdown(count):\n",
    "\n",
    "    return    "
   ]
  },
  {
   "cell_type": "code",
   "execution_count": 5,
   "id": "3ada7cfa-1f5d-4b28-aacf-9d957a609e2f",
   "metadata": {},
   "outputs": [
    {
     "name": "stdout",
     "output_type": "stream",
     "text": [
      "15...\n",
      "14...\n",
      "13...\n",
      "12...\n",
      "11...\n",
      "10...\n",
      "9...\n",
      "8...\n",
      "7...\n",
      "6...\n",
      "5...\n",
      "4...\n",
      "3...\n",
      "2...\n",
      "1...\n",
      "BEEP BEEP BEEP\n"
     ]
    }
   ],
   "source": []
  },
  {
   "cell_type": "markdown",
   "id": "a7d53525-98b7-41ec-9c81-169213d4531c",
   "metadata": {},
   "source": [
    "#### Example Problem 3\n",
    "Let's write a function that takes a paragraph of text and prints each sentence on it's own line. We might want to use nested while loops (a while loop inside a while loop) for this one."
   ]
  },
  {
   "cell_type": "code",
   "execution_count": 10,
   "id": "48bfdae1-5648-4b58-a917-6c33e521fff7",
   "metadata": {},
   "outputs": [
    {
     "ename": "SyntaxError",
     "evalue": "invalid syntax (415276014.py, line 18)",
     "output_type": "error",
     "traceback": [
      "\u001b[0;36m  Cell \u001b[0;32mIn[10], line 18\u001b[0;36m\u001b[0m\n\u001b[0;31m    while\u001b[0m\n\u001b[0m          ^\u001b[0m\n\u001b[0;31mSyntaxError\u001b[0m\u001b[0;31m:\u001b[0m invalid syntax\n"
     ]
    }
   ],
   "source": [
    "def parseParagraph (para):\n",
    "    \n",
    "    pos = 0\n",
    "    while pos < len(para):\n",
    "        char = para[par]\n",
    "        if char == ' ' and sentence == '':\n",
    "            sentence = ''\n",
    "        elif char != '.' or char != '!' or char != '?':\n",
    "            sentence += char\n",
    "        else:\n",
    "            sentence += char\n",
    "            print (sentence)\n",
    "            sentence = ''\n",
    "\n",
    "    pos += 1\n",
    "    \n",
    "    sentence = ''\n",
    "    "
   ]
  },
  {
   "cell_type": "code",
   "execution_count": 12,
   "id": "3be624e2-0076-41d0-9451-3cc5cb4028d6",
   "metadata": {},
   "outputs": [
    {
     "ename": "SyntaxError",
     "evalue": "unterminated string literal (detected at line 2) (1551079223.py, line 2)",
     "output_type": "error",
     "traceback": [
      "\u001b[0;36m  Cell \u001b[0;32mIn[12], line 2\u001b[0;36m\u001b[0m\n\u001b[0;31m    TheCat = 'We looked and we saw him! The Cat in the Hat! and he said to us, \"Why do you sit there like that?\" \"I know it is wet and the sun is not sunny. But we can have lots of good fun that is funny!\"\u001b[0m\n\u001b[0m             ^\u001b[0m\n\u001b[0;31mSyntaxError\u001b[0m\u001b[0;31m:\u001b[0m unterminated string literal (detected at line 2)\n"
     ]
    }
   ],
   "source": [
    "Romeo = 'But, soft! what light through yonder window breaks? It is the east, and Juliet is the sun. Arise, fair sun, and kill the envious moon, Who is already sick and pale with grief, That thou her maid art far more fair than she. It is my lady, O, it is my love! O, that she knew she were! She speaks, yet she says nothing: what of that?'\n",
    "TheCat = 'We looked and we saw him! The Cat in the Hat! and he said to us, \"Why do you sit there like that?\" \"I know it is wet and the sun is not sunny. But we can have lots of good fun that is funny!\""
   ]
  },
  {
   "cell_type": "code",
   "execution_count": null,
   "id": "59c8eddc-546a-4703-b9a5-45818dbeb6f8",
   "metadata": {},
   "outputs": [],
   "source": []
  },
  {
   "cell_type": "markdown",
   "id": "663f61fa-7263-45d4-b93b-a019d42a3b7d",
   "metadata": {},
   "source": [
    "### For loops\n",
    "#### Syntax for For Loops\n",
    "\n",
    "```\n",
    "for <iter variable> in <iterable set>:\n",
    "    <code block>\n",
    "```"
   ]
  },
  {
   "cell_type": "markdown",
   "id": "43068ca1-dace-4477-b20f-111d1227ab50",
   "metadata": {},
   "source": [
    "#### Example Problem 4\n",
    "Let's use a for loop to evaluate a function $f(x)$ for some list of values of $x$."
   ]
  },
  {
   "cell_type": "code",
   "execution_count": 15,
   "id": "a2b710f5-4fea-425a-94c3-a43d2b16b945",
   "metadata": {},
   "outputs": [],
   "source": [
    "def evalFunc(f, xvals=list(range(0,10))):\n",
    "    \n",
    "    return xvals, y"
   ]
  },
  {
   "cell_type": "code",
   "execution_count": 23,
   "id": "691f056b-015d-4db8-b3e7-3e2a0aed30c1",
   "metadata": {},
   "outputs": [],
   "source": [
    "def f1(x):\n",
    "    return x\n",
    "\n",
    "def f2(x):\n",
    "    return x**1.5\n",
    "\n",
    "def f3(x):\n",
    "    return x**2\n",
    "\n",
    "x1, y1 = evalFunc(f1)\n",
    "x2, y2 = evalFunc(f2)\n",
    "x3, y3 = evalFunc(f3)\n"
   ]
  },
  {
   "cell_type": "code",
   "execution_count": 24,
   "id": "fa802762-08a5-4885-bbd3-4b3c5020b632",
   "metadata": {},
   "outputs": [
    {
     "data": {
      "image/png": "[encoded data removed]",
      "text/plain": [
       "<Figure size 640x480 with 1 Axes>"
      ]
     },
     "metadata": {},
     "output_type": "display_data"
    }
   ],
   "source": [
    "import matplotlib.pyplot as plt  # another package import!\n",
    "\n",
    "plt.plot(x1, y1, label = 'f1')\n",
    "plt.plot(x2, y2, label = 'f2')\n",
    "plt.plot(x3, y3, label = 'f3')\n",
    "\n",
    "plt.xlabel('x')\n",
    "plt.ylabel('y')\n",
    "plt.legend()\n",
    "plt.show()"
   ]
  },
  {
   "cell_type": "markdown",
   "id": "68aed821-30f1-4b1a-9674-44c0b7cb3774",
   "metadata": {},
   "source": [
    "#### Example Problem 5\n",
    "Lists can hold all different types of data. Suppose we get a list of mixed string and numeric data. Write a for loop to sift through the list and create two new lists, one containing all of the strings and another containing all of the numbers.\n"
   ]
  },
  {
   "cell_type": "code",
   "execution_count": 6,
   "id": "443aedd2-24b5-4769-a528-60d14771666d",
   "metadata": {},
   "outputs": [
    {
     "data": {
      "text/plain": [
       "(['DS', 'Sec C', 'meets', 'Mondays and Wednesdays', 'to'], [256, 2, 30, 3, 45])"
      ]
     },
     "execution_count": 6,
     "metadata": {},
     "output_type": "execute_result"
    }
   ],
   "source": [
    "test_list = ['DS', 256, 'Sec C', 'meets', 'Mondays and Wednesdays', 2, 30, 'to', 3, 45]\n",
    "\n",
    "def siftList(jumbleList):\n",
    "\n",
    "    strList = []\n",
    "    numList = []\n",
    "    \n",
    "    for item in range (jumbleList):\n",
    "\n",
    "        if isinstance (item, (int, float))\n",
    "        if \n",
    "\n",
    "\n",
    "siftList(test_list)\n",
    "\n"
   ]
  },
  {
   "cell_type": "markdown",
   "id": "9afd667b-311b-4b5e-b007-c9a6fb4dc1c6",
   "metadata": {},
   "source": [
    "#### Example Problem 6\n",
    "You run an artisan jewelry store on Etsy and you collect data from your customers purchases. A shopping cart is stored as a dictionary with the product name as the key and the value being another dictionary storing quantity and price with keys 'qty' and 'price' respectively. Write a loop that takes a shopping cart dictionary as input and returns the number of items in the cart and the total cost."
   ]
  },
  {
   "cell_type": "code",
   "execution_count": 14,
   "id": "5e75beed-4dca-4a54-83b5-e872c9d1c1d8",
   "metadata": {},
   "outputs": [
    {
     "ename": "SyntaxError",
     "evalue": "invalid syntax. Perhaps you forgot a comma? (2385670773.py, line 4)",
     "output_type": "error",
     "traceback": [
      "\u001b[0;36m  Cell \u001b[0;32mIn[14], line 4\u001b[0;36m\u001b[0m\n\u001b[0;31m    gold earrings = {'qty':4, 'price':12}\u001b[0m\n\u001b[0m    ^\u001b[0m\n\u001b[0;31mSyntaxError\u001b[0m\u001b[0;31m:\u001b[0m invalid syntax. Perhaps you forgot a comma?\n"
     ]
    }
   ],
   "source": [
    "sample_cart1 = dict(bracelet = {'qty':2, 'price':15},\n",
    "                   necklace = {'qty':1, 'price':45},\n",
    "                   silverring = {'qty':2, 'price':25},\n",
    "                   gold earrings = {'qty':4, 'price':12}\n",
    "                   )\n",
    "\n",
    "sample_cart2 = dict(goldring = {'qty':1, 'price':35},\n",
    "                   silverring = {'qty':2, 'price':25},\n",
    "                   giftcard = {'qty':1, 'price':100}\n",
    "                   )"
   ]
  },
  {
   "cell_type": "code",
   "execution_count": null,
   "id": "dd94ab9b-60bc-4683-a6d0-a91881254fd6",
   "metadata": {},
   "outputs": [],
   "source": []
  },
  {
   "cell_type": "markdown",
   "id": "b5fe80c9-b0c5-422d-a42c-c3730693cde8",
   "metadata": {},
   "source": [
    "### Other loop keywords\n",
    "\n",
    "You may exit a loop or skip an iteration of a loop using the ```break``` and ```continue``` keywords, respectively.\n",
    "\n",
    " - break - exit the loop and proceed with code outside of the loop\n",
    " - continue - skip the remaining code in the current iteration and advance to the next iteration"
   ]
  },
  {
   "cell_type": "markdown",
   "id": "20a0be66-b490-48e3-92a1-85878350c8bf",
   "metadata": {},
   "source": [
    "#### Example Problem 7\n",
    "We've used the .index() function to find the location of an item in a list. The problem with .index() is that it raises an error if the item isn't in the list. Let's write our own version. The function should iterate through a list, checking each entry for a match. If a match is found, the function returns the location of the first match. Otherwise, the function prints 'no match found'."
   ]
  },
  {
   "cell_type": "code",
   "execution_count": null,
   "id": "de325c95-ef98-42c6-abd2-0e9598ec7fc5",
   "metadata": {},
   "outputs": [],
   "source": []
  },
  {
   "cell_type": "markdown",
   "id": "329e40f2-39b7-491c-a264-5573735af06b",
   "metadata": {},
   "source": [
    "#### Example Problem 8\n",
    "Let's revisit Example Problem 3 above. This time, after a sentence is complete, we should skip any subsequent spaces before beginning a new sentence. Can we achieve this with a ```continue``` statement?"
   ]
  },
  {
   "cell_type": "code",
   "execution_count": null,
   "id": "7a223e99-2fc6-46c8-a756-8da560b1b17f",
   "metadata": {},
   "outputs": [],
   "source": []
  }
 ],
 "metadata": {
  "kernelspec": {
   "display_name": "Python 3 (ipykernel)",
   "language": "python",
   "name": "python3"
  },
  "language_info": {
   "codemirror_mode": {
    "name": "ipython",
    "version": 3
   },
   "file_extension": ".py",
   "mimetype": "text/x-python",
   "name": "python",
   "nbconvert_exporter": "python",
   "pygments_lexer": "ipython3",
   "version": "3.12.4"
  }
 },
 "nbformat": 4,
 "nbformat_minor": 5
}
