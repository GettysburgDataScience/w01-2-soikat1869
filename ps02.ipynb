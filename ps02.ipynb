{
 "cells": [
  {
   "cell_type": "markdown",
   "id": "bf3894ca-0b00-4a6f-8c41-88340bec18b2",
   "metadata": {},
   "source": [
    "DS 256 Data Science Programming, Fall 2024 \n",
    "\n",
    "Prof Eatai Roth\n",
    "\n",
    "# Problem Set 2\n",
    "Due 09/16/2024 by 5p"
   ]
  },
  {
   "cell_type": "markdown",
   "id": "2b52636a-976c-498d-96a5-fa666608fca5",
   "metadata": {},
   "source": [
    "#### Problem 1\n",
    "\n",
    "Create the function ```in_bounds()``` that takes two arguments: a number ```num``` and a list ```bounds```. ```bounds``` should contain two numbers representing the lower and upper bounds of a range. The function will test whether ```num``` is below the range, at the lower boundary, within the range, at the upper boundary, or above the range and return the numbers -2, -1, 0, 1, 2 for each of those conditions respectively.\n",
    "\n",
    "Also, first test that upper is greater than lower, and if not, swap their values."
   ]
  },
  {
   "cell_type": "code",
   "execution_count": 23,
   "id": "b44a8d56-54d7-4426-b51b-1f5c0826705a",
   "metadata": {},
   "outputs": [],
   "source": [
    "def in_bounds(num, bounds):\n",
    "    if bounds[0] < bounds [-1]:\n",
    "        min = bounds[0]\n",
    "        max = bounds[-1]\n",
    "    else:\n",
    "       min = bounds[-1]\n",
    "       max = bounds[0]\n",
    "\n",
    "    if num < min:\n",
    "        return -2\n",
    "    elif num == min:\n",
    "        return -1\n",
    "    elif num > min and num < max:\n",
    "        return 0\n",
    "    elif num == max:\n",
    "        return 1\n",
    "    else:\n",
    "        return 2"
   ]
  },
  {
   "cell_type": "code",
   "execution_count": 25,
   "id": "a18f14c6-8753-4a94-80f9-59533fc1ea18",
   "metadata": {},
   "outputs": [
    {
     "name": "stdout",
     "output_type": "stream",
     "text": [
      "You've passed all the tests!\n"
     ]
    }
   ],
   "source": [
    "assert in_bounds(23, [0, 100]) == 0\n",
    "assert in_bounds(0, [0, 100]) == -1\n",
    "assert in_bounds(100.001, [0, 100]) ==2\n",
    "assert in_bounds(7.3, [12, 10]) == -2\n",
    "\n",
    "print(\"You've passed all the tests!\")"
   ]
  },
  {
   "cell_type": "markdown",
   "id": "2523255d-4b45-4310-9718-a6d9ef621c2f",
   "metadata": {},
   "source": [
    "#### Problem 2\n",
    "\n",
    "Create the function ```factorize()``` that takes as its argument a positive integer and returns a list of all the factors of that number. If the number is prime, don't return the factors, instead return the string \"<num> is prime!\" (do not print the string).\n",
    "\n",
    " Inputs:\n",
    " - ```n``` - number to factor\n",
    "\n",
    " Outputs (one or the other):\n",
    "\n",
    " - ```factors``` - a list of factors\n",
    " - a string saying the number is prime"
   ]
  },
  {
   "cell_type": "code",
   "execution_count": 69,
   "id": "aa3f1151-4d33-484d-babe-ad7feb9a78a5",
   "metadata": {},
   "outputs": [],
   "source": [
    "def factorize (n):\n",
    "\n",
    "    factors = []\n",
    "    for num in range(1, n+1):\n",
    "        if n%num == 0:\n",
    "            factors.append (num)\n",
    "    if len(factors) == 2:\n",
    "        return str(n) + ' is prime!'\n",
    "    else:\n",
    "        return factors"
   ]
  },
  {
   "cell_type": "code",
   "execution_count": 71,
   "id": "599b34f1-640f-47ec-a9ca-76a7091d2ee7",
   "metadata": {},
   "outputs": [
    {
     "name": "stdout",
     "output_type": "stream",
     "text": [
      "You've passed all the tests!\n"
     ]
    }
   ],
   "source": [
    "assert factorize(24) == [1, 2, 3, 4, 6, 8, 12, 24]\n",
    "assert factorize(57) == [1, 3, 19, 57]\n",
    "assert factorize(197) == '197 is prime!'\n",
    "\n",
    "print(\"You've passed all the tests!\")"
   ]
  },
  {
   "cell_type": "markdown",
   "id": "9c0ffd7c-8659-431b-ba90-0e52e32203cd",
   "metadata": {},
   "source": [
    "### A lesson before Problem 3\n",
    "\n",
    "**List of lists**\n",
    "\n",
    "A list can contain most any type, including other lists.\n",
    "\n",
    "Suppose a list A = [B0, B1, B2] and B0, B1, B2 are also themselves list.\n",
    "\n",
    " - A[0] is B0, A[1] is B1, A[2] is B2\n",
    " - B0[1] can be accessed as A[0][1]\n",
    "\n",
    "Let's see this in practice."
   ]
  },
  {
   "cell_type": "code",
   "execution_count": 22,
   "id": "29383b66-34e8-4b1d-8b74-a6c433947106",
   "metadata": {},
   "outputs": [
    {
     "name": "stdout",
     "output_type": "stream",
     "text": [
      "[['aye', 'bee', 'cee'], ['alfa', 'bravo', 'charlie'], ['hello', 'world']]\n"
     ]
    }
   ],
   "source": [
    "B0 = ['aye', 'bee', 'cee']\n",
    "B1 = ['alfa', 'bravo', 'charlie']\n",
    "B2 = ['hello', 'world']\n",
    "\n",
    "A = [B0, B1, B2]\n",
    "\n",
    "print(A)"
   ]
  },
  {
   "cell_type": "code",
   "execution_count": 23,
   "id": "92effd86-31e8-4930-a00a-267c9d63d482",
   "metadata": {},
   "outputs": [
    {
     "name": "stdout",
     "output_type": "stream",
     "text": [
      "['aye', 'bee', 'cee']\n",
      "['alfa', 'bravo', 'charlie']\n",
      "['hello', 'world']\n"
     ]
    }
   ],
   "source": [
    "'''to access the sublists'''\n",
    "print(A[0])\n",
    "print(A[1])\n",
    "print(A[2])"
   ]
  },
  {
   "cell_type": "code",
   "execution_count": 24,
   "id": "5a945aca-18a0-4aa5-9cd4-f9b3875673e5",
   "metadata": {},
   "outputs": [
    {
     "name": "stdout",
     "output_type": "stream",
     "text": [
      "cee\n",
      "world\n"
     ]
    }
   ],
   "source": [
    "'''to access elements in the sublist'''\n",
    "print(A[0][2])\n",
    "print(A[2][1])"
   ]
  },
  {
   "cell_type": "markdown",
   "id": "f9e36f7a-1f56-42df-85b6-3ff990557637",
   "metadata": {},
   "source": [
    "#### Problem 3\n",
    "\n",
    "Create a function ```combo_meal``` that takes two lists, ```entrees``` and ```sides``` and returns a list of every combination as a string:\n",
    "\n",
    "\\'\\<entree\\> and \\<side\\> for $\\<total price\\>' \n",
    "\n",
    "(e.g. 'burger and fries for $12').\n",
    "\n",
    "Function name:\n",
    " - combo_meal\n",
    "\n",
    "Inputs:\n",
    " - ```entrees``` - a list of entrees and their prices (list of lists) like this\n",
    "    [['burger', 8], ['chicken sandwich', 7]]\n",
    " - ```sides``` - like entrees but for sides\n",
    "\n",
    " Outputs:\n",
    "\n",
    "  - ```menu``` - list of strings of combos and their prices"
   ]
  },
  {
   "cell_type": "code",
   "execution_count": 89,
   "id": "5a39faae-f816-4b73-b055-6bd8fe1dd244",
   "metadata": {},
   "outputs": [],
   "source": [
    "def combo_meal (entrees, sides):\n",
    "    meals = []\n",
    "\n",
    "    for main in entrees:\n",
    "        for veg in sides:\n",
    "            meals.append (main[0] + ' and ' + veg[0] +' for $' + str(main[1] + veg[1]))\n",
    "    return meals\n",
    "\n",
    "''' you can test your code with these lists '''\n",
    "mains = [['chicken tenders', 6], ['grilled cheese', 4.50]]\n",
    "veggies = [['apple slices', 2], ['tots', 3],['sweet corn', 2.50]]"
   ]
  },
  {
   "cell_type": "code",
   "execution_count": 93,
   "id": "82751aec-41d8-4169-819e-bf4cfab6027f",
   "metadata": {},
   "outputs": [
    {
     "name": "stdout",
     "output_type": "stream",
     "text": [
      "You've passed all the tests!\n"
     ]
    }
   ],
   "source": [
    "entrees = [['pancakes', 6], ['omelette', 8], ['eggs benedict', 10]]\n",
    "sides = [['hashbrowns', 4], ['sausage', 2]]\n",
    "\n",
    "assert sorted(combo_meal(entrees, sides))==sorted(['pancakes and hashbrowns for $10',\n",
    " 'pancakes and sausage for $8',\n",
    " 'omelette and hashbrowns for $12',\n",
    " 'omelette and sausage for $10',\n",
    " 'eggs benedict and hashbrowns for $14',\n",
    " 'eggs benedict and sausage for $12'])\n",
    "\n",
    "assert sorted(combo_meal(sides, entrees)) == sorted(['hashbrowns and pancakes for $10',\n",
    " 'sausage and pancakes for $8',\n",
    " 'hashbrowns and omelette for $12',\n",
    " 'sausage and omelette for $10',\n",
    " 'hashbrowns and eggs benedict for $14',\n",
    " 'sausage and eggs benedict for $12'])\n",
    "\n",
    "print(\"You've passed all the tests!\")"
   ]
  },
  {
   "cell_type": "code",
   "execution_count": null,
   "id": "25c3e037-0cb7-4041-94f9-6c9cf2ca6d91",
   "metadata": {},
   "outputs": [],
   "source": []
  }
 ],
 "metadata": {
  "kernelspec": {
   "display_name": "Python 3 (ipykernel)",
   "language": "python",
   "name": "python3"
  },
  "language_info": {
   "codemirror_mode": {
    "name": "ipython",
    "version": 3
   },
   "file_extension": ".py",
   "mimetype": "text/x-python",
   "name": "python",
   "nbconvert_exporter": "python",
   "pygments_lexer": "ipython3",
   "version": "3.12.4"
  }
 },
 "nbformat": 4,
 "nbformat_minor": 5
}
