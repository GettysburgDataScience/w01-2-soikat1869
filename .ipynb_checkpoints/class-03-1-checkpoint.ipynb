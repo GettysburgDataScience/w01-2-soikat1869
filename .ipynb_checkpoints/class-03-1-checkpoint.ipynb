{
 "cells": [
  {
   "cell_type": "markdown",
   "id": "ca83290c-15f0-45d9-9679-13331f4d531b",
   "metadata": {},
   "source": [
    "DS 256 Data Science Programming, Fall 2024\n",
    "\n",
    "Prof Eatai Roth\n",
    "\n",
    "Class 3.1\n",
    "\n",
    "Today, we'll start control flow. [WTOP Ch 8](https://jakevdp.github.io/WhirlwindTourOfPython/07-control-flow-statements.html)"
   ]
  },
  {
   "cell_type": "markdown",
   "id": "f83d06c0-6645-4beb-9b70-7ac70523c813",
   "metadata": {},
   "source": [
    "# Control Flow\n",
    "\n",
    "*Control flow* refer to commands that determine which code runs and how many times. The main tools of control flow are:\n",
    "\n",
    " - Conditional Statements - statements that allow you to run different code under certain conditions\n",
    " - Loops - statements that allow you to run blocks of code multiple times"
   ]
  },
  {
   "cell_type": "markdown",
   "id": "aa86db66-dc95-48b6-bc75-6f9163530d64",
   "metadata": {},
   "source": [
    "## Conditional Statements\n",
    "\n",
    "Conditional statements determine if code will run using ```if```, ```elif``` (abbreviation of else if), and ```else``` statements.\n",
    "\n",
    "### If statements\n",
    "Run some code if a condition is met.\n",
    "\n",
    " - If it's nice outside, I'm going to play tennis.\n",
    " - If I'm not sleepy, I'll watch the fourth quarter.\n",
    " - If the requested withdrawal amount is more than the amount in your checking account, the transaction will be declined.\n",
    "\n",
    "### If-else statements\n",
    "This gives one path of code if the condition is met and another path for all other cases.\n",
    "\n",
    " - If it's nice outside, I'm going to play tennis. Else (otherwise), I'll go the gym to play basketball.\n",
    " - If I'm not sleepy, I'll watch the fourth quarter, else I'll go to bed.\n",
    " - If the requested withdrawal amount is more than the amount in your checking account, the transaction will be declined, else the funds will be transferred to the vendor.\n",
    "\n",
    "### if-elif-else\n",
    "This gives a sequence of conditions, if one isn't met then you move onto the next option. ```if-elif``` may or may not have an ```else``` statement at the end (mostly they do).\n",
    "\n",
    " - If it's nice outside I'm going to play tennis, else if it's just drizzling I'll go to the gym to play basketball, else I'll stay home and watch a show.\n",
    " - If I'm not sleepy, I'll watch the fourth quarter of the game. Else if I'm a little sleepy, I'll watch the first five minutes then go to bed. Else, I'll go to bed right away.\n",
    " - If the requested withdrawal amount is more than the amount in your checking account, the transaction will be declined, else if you have the funds but the remaining balance is less than $50, the funds will be transferred to the vendor and the buyer will get a \"low balance\" notification. Else, the funds will be transferred to the vendor.\n",
    "\n",
    "The if-elif-else statements don't have to be particularly related:\n",
    "\n",
    " - If it's nice outside, I'll play tennis. Else if I'm feeling hungry, I'll eat a bowl of cereal. Else if the dollar is strong, my dad will invest in foreign currency. Else, print \"they're all good dogs\".\n",
    "\n",
    "   \n",
    "#### Syntax for if-elif-else\n",
    "```\n",
    "if <condition 1>:\n",
    "    <code block 1>\n",
    "elif <condition 2>:\n",
    "    <code block 2>:\n",
    "elif <condition 3>:\n",
    "    <code block 3>\n",
    "    .\n",
    "    .\n",
    "    .\n",
    "else:\n",
    "    <code block 0>\n",
    "```\n"
   ]
  },
  {
   "cell_type": "markdown",
   "id": "e5063250-fbd6-4fe8-bf64-4df1d527a008",
   "metadata": {},
   "source": [
    "#### Example Problem 1\n",
    "\n",
    "Let's write a set of if statements that check if a student is keeping up with their work. If a student is earning above an 80, they are in good standing and nothing needs to be done. If they are earning between 60-80, they're struggling and should get a note to attend office hours. If they are below 60, they are failing and should get a notification to schedule a one-on-one with the professor."
   ]
  },
  {
   "cell_type": "code",
   "execution_count": null,
   "id": "6ba71c4e-9d6c-44b1-9bca-b97c9a60866c",
   "metadata": {},
   "outputs": [],
   "source": []
  },
  {
   "cell_type": "markdown",
   "id": "150ae2d3-49af-4e51-9f18-3f502ab51261",
   "metadata": {},
   "source": [
    "#### Example Problem 2\n",
    "\n",
    "Let's re-visit the leap year problem from PS1. Write a function using conditional statements (if-elif-else) that returns whether or not a year is a leap year.\n"
   ]
  },
  {
   "cell_type": "code",
   "execution_count": null,
   "id": "1b512e0e-119b-4e01-95b8-03d12075df29",
   "metadata": {},
   "outputs": [],
   "source": []
  },
  {
   "cell_type": "markdown",
   "id": "68aed821-30f1-4b1a-9674-44c0b7cb3774",
   "metadata": {},
   "source": [
    "#### Example Problem 3\n",
    "Think for 3 minutes. Who comes up with a good problem to use the if-then-else structure.\n",
    "\n"
   ]
  },
  {
   "cell_type": "markdown",
   "id": "9e82d42a-f251-48e6-a48d-1afdedc990e2",
   "metadata": {},
   "source": [
    "### Match-Case\n",
    "\n",
    "*Match-case* (switch-case in basically every other programming language) is another way of achieving the selectivity of if statements. Match-case statements use one variable as a selector and enumerate the different cases.\n",
    "\n",
    "###Syntax for match-case\n",
    "\n",
    "```\n",
    "match <match variable>:\n",
    "    case <case 1>:\n",
    "        <codeblock 1>\n",
    "    case <case 2>:\n",
    "        <codeblock 2>:\n",
    "        .\n",
    "        .\n",
    "        .\n",
    "    case other:   # alternatively case _\n",
    "        <codeblock 0>\n",
    "```\n",
    "\n",
    "\n",
    "*Note*: For those that are familiar with switch-case from another language, Python's match-case does NOT fall through: one match and done."
   ]
  },
  {
   "cell_type": "markdown",
   "id": "28291133-aff9-40ac-8838-d1bc1c0cac3a",
   "metadata": {},
   "source": [
    "### Example Problem 4\n",
    "\n",
    "Below, I've written a function that checks if a letter is a vowel or not.\n"
   ]
  },
  {
   "cell_type": "code",
   "execution_count": 21,
   "id": "837120e5-3d34-41bc-9342-f12f38395c99",
   "metadata": {},
   "outputs": [],
   "source": [
    "def isAVowel(char):\n",
    "    lowchar=char.lower()\n",
    "    match lowchar:\n",
    "        case 'a'|'e'|'i'|'o'|'u':  # | (pipe) lumps different cases with same outcome. | means 'OR'\n",
    "            print(f'yes, \"{char}\" is a vowel.')\n",
    "            return True\n",
    "        case 'y':\n",
    "            print(f'\"{char}\" can sometimes act as a vowel.')\n",
    "            return False\n",
    "        case 'b'|'c'|'d'|'f'|'g'|'h'|'j'|'k'|'l'|'m'|'n'|'p'|'q'|'r'|'s'|'t'|'v'|'w'|'x'|'y'|'z':\n",
    "            print('no! \"{char}\" is not a vowel.')\n",
    "            return False\n",
    "        case _:\n",
    "            print('You must enter a single alphabetic character.')\n",
    "            return False"
   ]
  },
  {
   "cell_type": "code",
   "execution_count": 22,
   "id": "45d92b1f-ac77-4e57-a09e-730519b4038f",
   "metadata": {},
   "outputs": [
    {
     "name": "stdout",
     "output_type": "stream",
     "text": [
      "no!\n"
     ]
    },
    {
     "data": {
      "text/plain": [
       "False"
      ]
     },
     "execution_count": 22,
     "metadata": {},
     "output_type": "execute_result"
    }
   ],
   "source": [
    "isAVowel('w')"
   ]
  },
  {
   "cell_type": "markdown",
   "id": "e8e0eca8-5513-4b4e-9b91-e1d85aeab86b",
   "metadata": {},
   "source": [
    "### Example Problem 5\n",
    "Let's revisit PS1 and write a ```daysInMonth``` function using match-case. The function should take as input the name of a month as a string and return the number of days in the month."
   ]
  },
  {
   "cell_type": "code",
   "execution_count": null,
   "id": "80cc26c3-1b66-4334-a1f9-709358d1e269",
   "metadata": {},
   "outputs": [],
   "source": []
  },
  {
   "cell_type": "markdown",
   "id": "3c5d32b8-a866-46c5-b0b2-6dc9a01d75d8",
   "metadata": {},
   "source": [
    "#### Example Problem 6\n",
    "Write a match-case block that gives different heat advisories depending on the temperature.\n",
    "The advisory levels should be as follows:\n",
    "\n",
    " - higher than 105 - level 5\n",
    " - 100-105 - level 4\n",
    " - 95-100 - level 3\n",
    " - 80-95 - level 2\n",
    " - less than 80 - level 1\n",
    "\n",
    "Also have the block print some cautionary message for each level.\n",
    "\n",
    "When the condition you want to check is a more complicated condition on the match parameter, you have to use a special format for the case statement.\n",
    "\n",
    "    case x if (condition on x):\n",
    "\n",
    "You might as well just use if statements in this case."
   ]
  },
  {
   "cell_type": "code",
   "execution_count": 24,
   "id": "d07955b8-bd7c-414a-b4de-857adc95eda8",
   "metadata": {},
   "outputs": [
    {
     "name": "stdout",
     "output_type": "stream",
     "text": [
      "Don't forget deodorant today.\n"
     ]
    }
   ],
   "source": []
  },
  {
   "cell_type": "markdown",
   "id": "deb34d02-4558-495d-976b-af2655bd2a87",
   "metadata": {},
   "source": [
    "### QUIZ YOURSELF\n",
    "\n",
    "In the cells below, I've written some code. Try to predict what this code does. Check if you've understood by running the code or testing the functions."
   ]
  },
  {
   "cell_type": "markdown",
   "id": "0662c040-6821-4cce-89da-c264de175a4b",
   "metadata": {},
   "source": [
    "#### Q1"
   ]
  },
  {
   "cell_type": "code",
   "execution_count": 25,
   "id": "922b5661-b672-48f0-968f-50bf58e954dd",
   "metadata": {},
   "outputs": [],
   "source": [
    "a = range(1,100) # creates a list with numbers 1-99\n",
    "\n",
    "group0 = a[0::5]\n",
    "group1 = a[1::5]\n",
    "group2 = a[2::5]\n",
    "group3 = a[3::5]\n",
    "group4 = a[4::5]"
   ]
  },
  {
   "cell_type": "markdown",
   "id": "025d32b7-bed6-4287-a530-e8caffd1ecd2",
   "metadata": {},
   "source": [
    "*What did that do?*\n",
    "\n"
   ]
  },
  {
   "cell_type": "markdown",
   "id": "1e37d637-365e-409b-a2fc-92fc32a1aa07",
   "metadata": {},
   "source": [
    "#### Q2"
   ]
  },
  {
   "cell_type": "code",
   "execution_count": 27,
   "id": "15d5a7ca-9d72-4695-9754-3b8d1d7089f0",
   "metadata": {},
   "outputs": [],
   "source": [
    "petLegs = {\n",
    "    'cat':4,\n",
    "    'dog':4,\n",
    "    'rodent':4,\n",
    "    'bird':2,\n",
    "    'tarantula':8,\n",
    "    'hissing cockroach':6,\n",
    "    'fish':0,\n",
    "    'snake':0,\n",
    "    'toddler':2\n",
    "}\n",
    "\n",
    "def comparePets(animal1, animal2):\n",
    "    if petLegs[animal1] > petLegs[animal2]:\n",
    "        print(f'A {animal1} has {petLegs[animal1]-petLegs[animal2]} more legs than a {animal2}.')\n",
    "    elif petLegs[animal1]==petLegs[animal2]:\n",
    "        print(f'A {animal1} and a {animal2} have the same number of legs, {petLegs[animal1]}.')\n",
    "    else:\n",
    "        print(f'A {animal1} has {petLegs[animal2]-petLegs[animal1]} fewer legs than a {animal2}.')\n",
    "\n",
    "        "
   ]
  },
  {
   "cell_type": "markdown",
   "id": "bc941fef-7850-412d-9979-76fa26e93f64",
   "metadata": {},
   "source": [
    "*What did that do?*"
   ]
  },
  {
   "cell_type": "markdown",
   "id": "2c42004f-e58f-4113-816d-07b1bce55b34",
   "metadata": {},
   "source": [
    "#### Q3"
   ]
  },
  {
   "cell_type": "code",
   "execution_count": null,
   "id": "57056e63-3914-4455-8282-b514c61e7cee",
   "metadata": {},
   "outputs": [],
   "source": [
    "def huh(x,y):\n",
    "    return x==y\n",
    "\n",
    "def heh(p=0,n=0,d=0,q=0):\n",
    "    t = 0.01 * p + 0.05*n + 0.1*d + 0.25*q\n",
    "    return t"
   ]
  }
 ],
 "metadata": {
  "kernelspec": {
   "display_name": "Python 3 (ipykernel)",
   "language": "python",
   "name": "python3"
  },
  "language_info": {
   "codemirror_mode": {
    "name": "ipython",
    "version": 3
   },
   "file_extension": ".py",
   "mimetype": "text/x-python",
   "name": "python",
   "nbconvert_exporter": "python",
   "pygments_lexer": "ipython3",
   "version": "3.12.4"
  }
 },
 "nbformat": 4,
 "nbformat_minor": 5
}
