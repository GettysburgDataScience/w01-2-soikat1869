{
 "cells": [
  {
   "cell_type": "markdown",
   "id": "b1ac91a2-32bd-43c4-b994-7234749ccb80",
   "metadata": {},
   "source": [
    "DS 256 Data Science Programming, Fall 2024 Prof Eatai Roth\n",
    "\n",
    "Class 2.2\n",
    "\n",
    "Today...dictionaries. [WTOP Ch 6](https://jakevdp.github.io/WhirlwindTourOfPython/06-built-in-data-structures.html)"
   ]
  },
  {
   "cell_type": "markdown",
   "id": "8d253fb7-267c-4d57-b1ef-fac9804297ce",
   "metadata": {},
   "source": [
    "## Dictionaries\n",
    "\n",
    "A dictionary (or dict) is another container type, like a list or a tuple. Unlike lists and tuples, dictionaries are unordered, meaning we cannot index an item in the dictionary by number. Instead, dictionaries map values to descriptive strings (or numbers, but usually words) called *keys*, a key:value pair.\n",
    "\n",
    "We create a dictionary in one of two ways:\n",
    "\n",
    "```\n",
    "myDict = dict(key1 = value1,\n",
    "            key2 = value2,\n",
    "            ...\n",
    "            )\n",
    "```\n",
    "or\n",
    "\n",
    "```\n",
    "myDict = {'key1':value1,\n",
    "        'key2':value2,\n",
    "        ...\n",
    "        }\n",
    "```\n",
    "\n",
    "Let's look at an example of a dictionary called student that contains information about a particular student."
   ]
  },
  {
   "cell_type": "code",
   "execution_count": 18,
   "id": "5dee1dc1-8780-4f33-b687-45055cbbfb0b",
   "metadata": {},
   "outputs": [],
   "source": [
    "student_a = dict(first = 'Eatai',\n",
    "               last = 'Roth',\n",
    "               id = 1112222,\n",
    "               major = 'undeclared',\n",
    "               minor = 'Data Science')\n",
    "\n",
    "student_b = {'first':'Eatai',\n",
    "           'last':'Roth',\n",
    "           'id':1112222,\n",
    "           'major':'undeclared',\n",
    "           'minor':'Data Science'}"
   ]
  },
  {
   "cell_type": "code",
   "execution_count": 21,
   "id": "e7c076c6-0748-4d23-8bb1-85b188579c8b",
   "metadata": {},
   "outputs": [
    {
     "name": "stdout",
     "output_type": "stream",
     "text": [
      "{'first': 'Eatai', 'last': 'Roth', 'id': 1112222, 'major': 'undeclared', 'minor': 'Data Science'}\n"
     ]
    },
    {
     "data": {
      "text/plain": [
       "True"
      ]
     },
     "execution_count": 21,
     "metadata": {},
     "output_type": "execute_result"
    }
   ],
   "source": []
  },
  {
   "cell_type": "markdown",
   "id": "3257fe61-a0d2-47cf-93d8-5cdef0f0ff29",
   "metadata": {},
   "source": [
    "A dictionary is indexed by keyword instead of position. For example:"
   ]
  },
  {
   "cell_type": "code",
   "execution_count": 22,
   "id": "58c8b17e-46ba-4e02-942b-2b4ecac06873",
   "metadata": {},
   "outputs": [
    {
     "data": {
      "text/plain": [
       "1112222"
      ]
     },
     "execution_count": 22,
     "metadata": {},
     "output_type": "execute_result"
    }
   ],
   "source": []
  },
  {
   "cell_type": "code",
   "execution_count": 26,
   "id": "b4dab02b-10ef-42c9-bfa5-2549ce6487b6",
   "metadata": {},
   "outputs": [
    {
     "ename": "KeyError",
     "evalue": "'SSN'",
     "output_type": "error",
     "traceback": [
      "\u001b[0;31m---------------------------------------------------------------------------\u001b[0m",
      "\u001b[0;31mKeyError\u001b[0m                                  Traceback (most recent call last)",
      "Cell \u001b[0;32mIn[26], line 1\u001b[0m\n\u001b[0;32m----> 1\u001b[0m student_a[\u001b[38;5;124m'\u001b[39m\u001b[38;5;124mSSN\u001b[39m\u001b[38;5;124m'\u001b[39m]\n",
      "\u001b[0;31mKeyError\u001b[0m: 'SSN'"
     ]
    }
   ],
   "source": []
  },
  {
   "cell_type": "markdown",
   "id": "5b4d1e47-7e4e-459f-a142-f73d15420196",
   "metadata": {},
   "source": [
    "If you don't know what keys are in a dictionary, you can ask using ```.keys()``` and similarly for values using ```.values()```"
   ]
  },
  {
   "cell_type": "code",
   "execution_count": 24,
   "id": "8c76d6cc-a68d-4221-9b2f-a141fc245641",
   "metadata": {},
   "outputs": [
    {
     "data": {
      "text/plain": [
       "dict_values(['Eatai', 'Roth', 1112222, 'undeclared', 'Data Science'])"
      ]
     },
     "execution_count": 24,
     "metadata": {},
     "output_type": "execute_result"
    }
   ],
   "source": [
    "student_a.values()"
   ]
  },
  {
   "cell_type": "markdown",
   "id": "380803f1-8462-4025-9b3f-52916fe5bdbf",
   "metadata": {},
   "source": [
    "And you can reassign values or even add fields to a dictionary on the fly."
   ]
  },
  {
   "cell_type": "code",
   "execution_count": null,
   "id": "61b4bbfa-fcfa-4ef7-b519-8e20c8acc6a1",
   "metadata": {},
   "outputs": [],
   "source": []
  },
  {
   "cell_type": "markdown",
   "id": "9c16b314-6fce-4b3e-81b0-9f0edf922fa0",
   "metadata": {},
   "source": [
    "**Why use dictionaries?**\n",
    "\n",
    "Dictionaries are a good way to group variables or parameters that are related. \n",
    "\n",
    " - they can contain anything, even other dictionaries, lists, tuples\n",
    " - referencing is intuitive (you don't have to remember where a variable is)\n",
    " - can save a single container variable rather than ??? individual variables\n",
    " - can pass multiple variables into a function as inputs"
   ]
  },
  {
   "cell_type": "code",
   "execution_count": 34,
   "id": "f28092a9-b2d4-41e0-84a4-99e35126b436",
   "metadata": {},
   "outputs": [
    {
     "data": {
      "text/plain": [
       "\"\\nLet's make a dictionary and pass it to a function. \\nWhy would we use this?\\n\""
      ]
     },
     "execution_count": 34,
     "metadata": {},
     "output_type": "execute_result"
    }
   ],
   "source": [
    "'''\n",
    "Let's make a dictionary and pass it to a function. \n",
    "Why would we use this?\n",
    "'''\n",
    "\n"
   ]
  },
  {
   "cell_type": "markdown",
   "id": "aeb1abf7-cd05-4b0a-93d4-a053bb893011",
   "metadata": {},
   "source": [
    "### Other container types\n",
    "\n",
    " - sets\n",
    " - default dictionaries (in the collection package)\n",
    " - ordered dictionaries (in the collection package)\n",
    "\n",
    "These each have their own special use cases. You can look them up, but you likely won't need them."
   ]
  },
  {
   "cell_type": "markdown",
   "id": "b2e20209-1c48-4375-a53d-62ef61aea578",
   "metadata": {},
   "source": [
    "## Review Functions (but slowly)"
   ]
  },
  {
   "cell_type": "code",
   "execution_count": null,
   "id": "b764861a-5e10-4813-a95f-808352b0fcee",
   "metadata": {},
   "outputs": [],
   "source": []
  }
 ],
 "metadata": {
  "kernelspec": {
   "display_name": "Python 3 (ipykernel)",
   "language": "python",
   "name": "python3"
  },
  "language_info": {
   "codemirror_mode": {
    "name": "ipython",
    "version": 3
   },
   "file_extension": ".py",
   "mimetype": "text/x-python",
   "name": "python",
   "nbconvert_exporter": "python",
   "pygments_lexer": "ipython3",
   "version": "3.12.4"
  }
 },
 "nbformat": 4,
 "nbformat_minor": 5
}
